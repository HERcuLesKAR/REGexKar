{
 "cells": [
  {
   "cell_type": "code",
   "execution_count": 14,
   "id": "7e6aced7-02cc-4d16-a14a-6fbec8cf4a6a",
   "metadata": {},
   "outputs": [
    {
     "name": "stdout",
     "output_type": "stream",
     "text": [
      "105\n",
      "140\n",
      "175\n"
     ]
    }
   ],
   "source": [
    "# 97 to divisible by 5 and 7 \n",
    "for i in range (97,180 ):\n",
    "    if i%5==0 and i%7==0:\n",
    "        print (i)"
   ]
  },
  {
   "cell_type": "code",
   "execution_count": 19,
   "id": "c86f8c7c-9f08-4bb9-8223-f4fa2313a07c",
   "metadata": {},
   "outputs": [
    {
     "name": "stdout",
     "output_type": "stream",
     "text": [
      "9\n"
     ]
    }
   ],
   "source": [
    "count = 0 \n",
    "for i in \"Kartikaya\":\n",
    "    count = count + 1 \n",
    "print(count)\n",
    "    "
   ]
  },
  {
   "cell_type": "code",
   "execution_count": 21,
   "id": "87b75737-d37f-45e9-bafd-f367d2855cf5",
   "metadata": {},
   "outputs": [
    {
     "name": "stdout",
     "output_type": "stream",
     "text": [
      "9\n"
     ]
    }
   ],
   "source": [
    "count = 0 \n",
    "data = \"kartikaya\"\n",
    "for i in data:\n",
    "    count = count + 1 \n",
    "print(count)\n",
    "    "
   ]
  },
  {
   "cell_type": "code",
   "execution_count": 22,
   "id": "9c243428-f62e-48d9-bd6c-69b9ad98d3a3",
   "metadata": {},
   "outputs": [
    {
     "name": "stdout",
     "output_type": "stream",
     "text": [
      "4\n"
     ]
    }
   ],
   "source": [
    "count = 0 \n",
    "data = \"kartikaya\"\n",
    "vowels = \"aeiouAEIOU\"\n",
    "for i in data:\n",
    "    if i in vowels :\n",
    "        count = count + 1 \n",
    "print(count)"
   ]
  },
  {
   "cell_type": "code",
   "execution_count": 23,
   "id": "35368d60-9cbe-4352-960f-8dbdca9ece09",
   "metadata": {},
   "outputs": [
    {
     "name": "stdout",
     "output_type": "stream",
     "text": [
      "5\n"
     ]
    }
   ],
   "source": [
    "count = 0 \n",
    "data = \"kartikaya\"\n",
    "vowels = \"aeiouAEIOU\"\n",
    "for i in data:\n",
    "    if i not in vowels :\n",
    "        count = count + 1 \n",
    "print(count)"
   ]
  },
  {
   "cell_type": "code",
   "execution_count": 27,
   "id": "df08d3e6-620c-4736-8342-2b070c926f29",
   "metadata": {},
   "outputs": [
    {
     "name": "stdout",
     "output_type": "stream",
     "text": [
      "* * * * \n",
      "* * * * \n",
      "* * * * \n",
      "* * * * \n"
     ]
    }
   ],
   "source": [
    "for i in range (1,5):\n",
    "    for j in range (1,5):\n",
    "        print (\"*\",end=\" \")\n",
    "    print()"
   ]
  },
  {
   "cell_type": "code",
   "execution_count": 33,
   "id": "db5dca5c-cbf1-4023-88dd-62d8bf1f5a43",
   "metadata": {},
   "outputs": [
    {
     "name": "stdout",
     "output_type": "stream",
     "text": [
      "1 1 1 1 \n",
      "2 2 2 2 \n",
      "3 3 3 3 \n",
      "4 4 4 4 \n",
      "5 5 5 5 \n"
     ]
    }
   ],
   "source": [
    "for i in range (1,6):\n",
    "    for j in range (1,5):\n",
    "        print (i,end=\" \")\n",
    "    print()"
   ]
  },
  {
   "cell_type": "code",
   "execution_count": 32,
   "id": "5a219323-05b0-4187-bc2b-077a57e5f596",
   "metadata": {},
   "outputs": [
    {
     "name": "stdout",
     "output_type": "stream",
     "text": [
      "1 2 3 4 5 \n",
      "1 2 3 4 5 \n",
      "1 2 3 4 5 \n"
     ]
    }
   ],
   "source": [
    "for i in range (1,4):\n",
    "    for j in range (1,6):\n",
    "        print (j,end=\" \")\n",
    "    print()"
   ]
  },
  {
   "cell_type": "code",
   "execution_count": 35,
   "id": "720e777e-82f1-4891-a349-0287b00249dd",
   "metadata": {},
   "outputs": [
    {
     "name": "stdout",
     "output_type": "stream",
     "text": [
      "5 4 3 2 1 \n",
      "5 4 3 2 1 \n",
      "5 4 3 2 1 \n"
     ]
    }
   ],
   "source": [
    "for i in range (1,4):\n",
    "    for j in range (5,0,-1):\n",
    "        print (j,end=\" \")\n",
    "    print()"
   ]
  },
  {
   "cell_type": "code",
   "execution_count": 37,
   "id": "d49d5087-9ac0-491f-8385-cb2b9d9d054f",
   "metadata": {},
   "outputs": [
    {
     "name": "stdout",
     "output_type": "stream",
     "text": [
      "* \n",
      "* * \n",
      "* * * \n"
     ]
    }
   ],
   "source": [
    "for i in range (1,4):\n",
    "    for j in range (1, i+1):\n",
    "        print (\"*\",end=\" \")\n",
    "    print()"
   ]
  },
  {
   "cell_type": "code",
   "execution_count": 52,
   "id": "0c08ed6f-9ae5-48cf-973e-1f56e7a58377",
   "metadata": {},
   "outputs": [
    {
     "name": "stdout",
     "output_type": "stream",
     "text": [
      "* * * * \n",
      "* * * \n",
      "* * \n",
      "* \n"
     ]
    }
   ],
   "source": [
    "for i in range (1,5):\n",
    "    for j in range (i,5):\n",
    "        print (\"*\",end=\" \")\n",
    "    print()"
   ]
  },
  {
   "cell_type": "code",
   "execution_count": 54,
   "id": "c4c01b9f-9d92-4316-b379-f8d446091162",
   "metadata": {},
   "outputs": [
    {
     "name": "stdout",
     "output_type": "stream",
     "text": [
      "1 \n",
      "1 2 \n",
      "1 2 3 \n",
      "1 2 3 4 \n"
     ]
    }
   ],
   "source": [
    "for i in range (1,5):\n",
    "    for j in range (1,i+1):\n",
    "        print (j,end=\" \")\n",
    "    print()"
   ]
  },
  {
   "cell_type": "code",
   "execution_count": 61,
   "id": "1650ef6c-0dfb-4963-bd49-d46d2cb5b71c",
   "metadata": {
    "scrolled": true
   },
   "outputs": [
    {
     "name": "stdout",
     "output_type": "stream",
     "text": [
      "1 \n",
      "2 3 \n",
      "4 5 6 \n",
      "7 8 9 10 \n"
     ]
    }
   ],
   "source": [
    "num = 1\n",
    "for i in range (1,5):\n",
    "    for j in range (1,i+1):\n",
    "        print (num,end=\" \")\n",
    "        num+=1\n",
    "    print()"
   ]
  },
  {
   "cell_type": "code",
   "execution_count": 62,
   "id": "2f7411ce-af5e-48c1-9fa2-2810b24d9ee6",
   "metadata": {},
   "outputs": [
    {
     "name": "stdout",
     "output_type": "stream",
     "text": [
      "10 \n",
      "9 8 \n",
      "7 6 5 \n",
      "4 3 2 1 \n"
     ]
    }
   ],
   "source": [
    "num = 10\n",
    "for i in range (1,5):\n",
    "    for j in range (1,i+1):\n",
    "        print (num,end=\" \")\n",
    "        num-=1\n",
    "    print()"
   ]
  },
  {
   "cell_type": "code",
   "execution_count": 70,
   "id": "5a516bb7-f34b-46d4-8c8a-f33f105f8a08",
   "metadata": {
    "scrolled": true
   },
   "outputs": [
    {
     "name": "stdout",
     "output_type": "stream",
     "text": [
      "A \n",
      "A B \n",
      "A B C \n",
      "A B C D \n"
     ]
    }
   ],
   "source": [
    "for i in range (1,5):\n",
    "    num = 65\n",
    "    for j in range (1,i+1):\n",
    "        print (chr(num),end=\" \")\n",
    "        num+=1\n",
    "    print()"
   ]
  },
  {
   "cell_type": "code",
   "execution_count": 71,
   "id": "4dd98fba-2167-4e78-9e11-722d5f7006aa",
   "metadata": {},
   "outputs": [
    {
     "name": "stdout",
     "output_type": "stream",
     "text": [
      "A \n",
      "B C \n",
      "D E F \n",
      "G H I J \n"
     ]
    }
   ],
   "source": [
    "num = 65\n",
    "for i in range (1,5):\n",
    "    for j in range (1,i+1):\n",
    "        print (chr(num),end=\" \")\n",
    "        num+=1\n",
    "    print()"
   ]
  },
  {
   "cell_type": "code",
   "execution_count": 73,
   "id": "07410dfb-2864-49c1-9fa5-ff8a7030b420",
   "metadata": {},
   "outputs": [
    {
     "name": "stdout",
     "output_type": "stream",
     "text": [
      "Z \n",
      "X V \n",
      "T R P \n",
      "N L J H \n"
     ]
    }
   ],
   "source": [
    "num = 90\n",
    "for i in range (1,5):\n",
    "    for j in range (1,i+1):\n",
    "        print (chr(num),end=\" \")\n",
    "        num-=2\n",
    "    print()"
   ]
  },
  {
   "cell_type": "code",
   "execution_count": 74,
   "id": "1eb5d197-85b4-4152-91a5-a03a38ff9dd2",
   "metadata": {},
   "outputs": [
    {
     "name": "stdout",
     "output_type": "stream",
     "text": [
      "1 A \n",
      "2 B 3 C \n",
      "4 D 5 E 6 F \n",
      "7 G 8 H 9 I 10 J \n"
     ]
    }
   ],
   "source": [
    "num = 65\n",
    "count = 1\n",
    "for i in range (1,5):\n",
    "    for j in range (1,i+1):\n",
    "        print (count,chr(num),end=\" \")\n",
    "        num+=1\n",
    "        count +=1\n",
    "    print()"
   ]
  },
  {
   "cell_type": "code",
   "execution_count": 83,
   "id": "cded3b11-510f-4cb6-9a80-f8642ccc46e3",
   "metadata": {},
   "outputs": [
    {
     "name": "stdout",
     "output_type": "stream",
     "text": [
      "* \n",
      "* * \n",
      "*   * \n",
      "*     * \n",
      "* * * * * \n"
     ]
    }
   ],
   "source": [
    "for i in range (1,6):\n",
    "    for j in range (1, i+1):\n",
    "        if i == 5 :\n",
    "            print (\"*\",end = \" \")\n",
    "        elif j == 1 or j == i :\n",
    "            print (\"*\",end =\" \")\n",
    "        else :\n",
    "            print (\" \", end = \" \")\n",
    "    print()"
   ]
  },
  {
   "cell_type": "code",
   "execution_count": 91,
   "id": "8e4b74c6-3aca-4e66-944f-3a18bed51b15",
   "metadata": {},
   "outputs": [
    {
     "name": "stdin",
     "output_type": "stream",
     "text": [
      "Enter Your Password :  AbcAbc1@\n"
     ]
    },
    {
     "name": "stdout",
     "output_type": "stream",
     "text": [
      "2\n",
      "4\n",
      "1\n",
      "1\n",
      "0\n",
      "8\n",
      "Password is Incorrect\n"
     ]
    }
   ],
   "source": [
    "password = input(\"Enter Your Password : \")\n",
    "capital_count = 0\n",
    "small_count = 0\n",
    "number_count = 0\n",
    "special_count = 0\n",
    "not_valid = 0\n",
    "total_count = 0\n",
    "\n",
    "for i in password :\n",
    "    total_count += 1\n",
    "    if \"A\"<=i<=\"Z\":\n",
    "        capital_count += 1\n",
    "    elif \"a\"<=i<=\"z\" :\n",
    "        small_count += 1 \n",
    "    elif \"0\"<=i<=\"9\" :\n",
    "        number_count += 1\n",
    "    elif i==\"#\" or i==\"!\" or i==\"@\":\n",
    "        special_count += 1\n",
    "    else :\n",
    "        not_valid += 1\n",
    "print (capital_count)\n",
    "print (small_count)\n",
    "print (number_count)\n",
    "print (special_count)\n",
    "print (not_valid)\n",
    "print (total_count)\n",
    "\n",
    "if not_valid == 0 and capital_count >= 3 and small_count >= 2 and number_count >= 1 and total_count in range (5,16) :\n",
    "    print (\"Password is Correct \")\n",
    "else :\n",
    "    print (\"Password is Incorrect\")\n",
    "    \n",
    "    "
   ]
  },
  {
   "cell_type": "code",
   "execution_count": 100,
   "id": "b25f486f-7fbb-411c-a20a-b10fbf583a6b",
   "metadata": {},
   "outputs": [
    {
     "name": "stdin",
     "output_type": "stream",
     "text": [
      "Enter a Number :  31\n"
     ]
    },
    {
     "name": "stdout",
     "output_type": "stream",
     "text": [
      "31 is a prime number\n"
     ]
    }
   ],
   "source": [
    "num = int(input(\"Enter a Number : \"))\n",
    "for i in range (2,num):\n",
    "    if num%i==0 :\n",
    "        print (num,\"is not a prime Number\")\n",
    "        break\n",
    "else :\n",
    "    print (num,\"is a prime number\")\n"
   ]
  },
  {
   "cell_type": "code",
   "execution_count": null,
   "id": "8c0b1ab0-9f26-4d8c-8611-81d74d8912f7",
   "metadata": {},
   "outputs": [],
   "source": []
  }
 ],
 "metadata": {
  "kernelspec": {
   "display_name": "Python 3 (ipykernel)",
   "language": "python",
   "name": "python3"
  },
  "language_info": {
   "codemirror_mode": {
    "name": "ipython",
    "version": 3
   },
   "file_extension": ".py",
   "mimetype": "text/x-python",
   "name": "python",
   "nbconvert_exporter": "python",
   "pygments_lexer": "ipython3",
   "version": "3.11.2"
  }
 },
 "nbformat": 4,
 "nbformat_minor": 5
}
