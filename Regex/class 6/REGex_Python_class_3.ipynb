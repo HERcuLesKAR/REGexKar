{
 "cells": [
  {
   "cell_type": "code",
   "execution_count": 15,
   "id": "e6c07dc9-217d-4985-b4c6-41f17bc23a53",
   "metadata": {},
   "outputs": [
    {
     "name": "stdout",
     "output_type": "stream",
     "text": [
      "$ $ $ $ * \n",
      "$ $ $ * * \n",
      "$ $ * * * \n",
      "$ * * * * \n",
      "* * * * * \n"
     ]
    }
   ],
   "source": [
    "for i in range (1,6):\n",
    "    for j in range (5,i,-1):\n",
    "        print (\"$\" , end = \" \")\n",
    "    for k in range (1,i+1):\n",
    "        print (\"*\", end = \" \")\n",
    "    print ()"
   ]
  },
  {
   "cell_type": "code",
   "execution_count": 16,
   "id": "8668db5d-375e-4e40-b1d9-86a4a5ce4d01",
   "metadata": {},
   "outputs": [
    {
     "name": "stdout",
     "output_type": "stream",
     "text": [
      "[100, 400]\n"
     ]
    }
   ],
   "source": [
    "list = [10,20,\"Hey\",11.5]\n",
    "nl = []\n",
    "for i in list :\n",
    "    if type(i)==int :\n",
    "        nl.append(i*i)\n",
    "print (nl)\n",
    "        "
   ]
  },
  {
   "cell_type": "code",
   "execution_count": 18,
   "id": "e58ded6a-31da-4ebf-ac6a-d5e2b4043d40",
   "metadata": {},
   "outputs": [
    {
     "name": "stdin",
     "output_type": "stream",
     "text": [
      "Enter a Number : 123\n"
     ]
    },
    {
     "name": "stdout",
     "output_type": "stream",
     "text": [
      "no Armstrong\n"
     ]
    }
   ],
   "source": [
    "data = int(input(\"Enter a Number :\"))\n",
    "data1 = data\n",
    "new_num = 0\n",
    "while data > 0 :\n",
    "    digit = data % 10\n",
    "    data = data // 10\n",
    "    new_num = new_num + digit**3\n",
    "if new_num == data1 :\n",
    "    print (\"yes Armstrong\")\n",
    "else :\n",
    "    print(\"no Armstrong\")"
   ]
  },
  {
   "cell_type": "code",
   "execution_count": 25,
   "id": "3b4c327d-6f25-4650-b172-8347e3682151",
   "metadata": {},
   "outputs": [
    {
     "name": "stdout",
     "output_type": "stream",
     "text": [
      "{'H': 1, 'E': 2, 'L': 4, 'O': 6}\n"
     ]
    }
   ],
   "source": [
    "data = \"HELLOO\"\n",
    "nd = {}\n",
    "i = 1\n",
    "for char in data :\n",
    "    nd[char] = i\n",
    "    i+=1\n",
    "print (nd)"
   ]
  },
  {
   "cell_type": "code",
   "execution_count": 32,
   "id": "176e6ab2-8d35-4f13-9692-e606fcca5571",
   "metadata": {},
   "outputs": [
    {
     "name": "stdout",
     "output_type": "stream",
     "text": [
      "{'e': 2, 'u': 1, 'a': 1, 'o': 1}\n"
     ]
    }
   ],
   "source": [
    "data = \"hey tushar hello\"\n",
    "vowels = \"aeiou\"\n",
    "nd = {}\n",
    "for i in data :\n",
    "    if i in vowels :\n",
    "        if i not in nd :\n",
    "            nd[i] = 1\n",
    "        else :\n",
    "            nd[i] += 1\n",
    "print (nd)"
   ]
  },
  {
   "cell_type": "code",
   "execution_count": 41,
   "id": "0d5a81bd-493b-4e6e-b100-2a64a618eb0d",
   "metadata": {},
   "outputs": [
    {
     "name": "stdin",
     "output_type": "stream",
     "text": [
      "Enter Number of Days  4\n"
     ]
    },
    {
     "name": "stdout",
     "output_type": "stream",
     "text": [
      "10\n"
     ]
    }
   ],
   "source": [
    "days = int(input(\"Enter Number of Days \"))\n",
    "total = 0 \n",
    "day =0\n",
    "a_day = 1\n",
    "week = 0\n",
    "price = 1\n",
    "while a_day <= days :\n",
    "    day += 1\n",
    "    if day > 7 :\n",
    "        week += 1 \n",
    "        price = week + 1\n",
    "        day = 1\n",
    "    total = total + price \n",
    "    price = price + 1\n",
    "    a_day = a_day + 1 \n",
    "print (total)"
   ]
  },
  {
   "cell_type": "code",
   "execution_count": 46,
   "id": "05278c75-6875-4738-b790-60ea5bf5cb17",
   "metadata": {},
   "outputs": [
    {
     "name": "stdout",
     "output_type": "stream",
     "text": [
      "1 2 3 4 * \n",
      "5 6 7 * * \n",
      "8 9 * * * \n"
     ]
    }
   ],
   "source": [
    "num = 1\n",
    "for i in range (0,3):\n",
    "    for j in range (4,i,-1):\n",
    "        print (num,end = \" \")\n",
    "        num +=1\n",
    "    for k in range (0,i+1):\n",
    "        print (\"*\", end = \" \")\n",
    "    print ()\n",
    "        "
   ]
  },
  {
   "cell_type": "code",
   "execution_count": 57,
   "id": "7039f4f7-f55e-41fc-bff9-af8bec6cc578",
   "metadata": {},
   "outputs": [
    {
     "name": "stdout",
     "output_type": "stream",
     "text": [
      "A B C D 1 \n",
      "A B C 1 2 \n",
      "A B 1 2 3 \n",
      "A 1 2 3 4 \n"
     ]
    }
   ],
   "source": [
    "for i in range (0,4):\n",
    "    num = 65\n",
    "    number = 1\n",
    "    for j in range (i,4):\n",
    "        print (chr(num),end = \" \")\n",
    "        num += 1\n",
    "    for k in range (0,i+1):\n",
    "        print (number, end = \" \")\n",
    "        number += 1\n",
    "    print ()"
   ]
  },
  {
   "cell_type": "code",
   "execution_count": 66,
   "id": "3cb37a5a-99dc-4f09-aa32-4a739394e0f2",
   "metadata": {},
   "outputs": [
    {
     "name": "stdout",
     "output_type": "stream",
     "text": [
      "        A \n",
      "      B C \n",
      "    D E F \n",
      "  G H I J \n"
     ]
    }
   ],
   "source": [
    "num = 65 \n",
    "for i in range (0,4):\n",
    "    for j in range (4,-1,-1):\n",
    "        if j==i or j<i:\n",
    "            print (chr(num) , end = \" \")\n",
    "            num += 1\n",
    "        else :\n",
    "            print (\" \", end = \" \")\n",
    "    print ()"
   ]
  },
  {
   "cell_type": "code",
   "execution_count": 67,
   "id": "e9740097-fdb7-47ca-ba9e-ed5924f84741",
   "metadata": {
    "scrolled": true
   },
   "outputs": [
    {
     "name": "stdout",
     "output_type": "stream",
     "text": [
      "A B C D 1 \n",
      "E F G 2 3 \n",
      "H I 4 5 6 \n",
      "J 7 8 9 10 \n"
     ]
    }
   ],
   "source": [
    "num = 65\n",
    "number = 1\n",
    "for i in range (0,4):\n",
    "    for j in range (i,4):\n",
    "        print (chr(num),end = \" \")\n",
    "        num += 1\n",
    "    for k in range (0,i+1):\n",
    "        print (number, end = \" \")\n",
    "        number += 1\n",
    "    print ()"
   ]
  },
  {
   "cell_type": "code",
   "execution_count": 109,
   "id": "e9065063-2981-493c-adf6-6b4aa5da8af2",
   "metadata": {},
   "outputs": [
    {
     "name": "stdout",
     "output_type": "stream",
     "text": [
      "* * * * * \n",
      "  * * *   \n",
      "    *     \n"
     ]
    }
   ],
   "source": [
    "for i in range (2,-1,-1):\n",
    "    for j in range (0,5):\n",
    "        mid = 2\n",
    "        if j>=mid-i and j<=mid+i:\n",
    "            print (\"*\" , end = \" \")\n",
    "        else :\n",
    "            print (\" \", end = \" \")\n",
    "    print ()"
   ]
  },
  {
   "cell_type": "code",
   "execution_count": null,
   "id": "24a530f8-c63a-4bbc-b32b-c8a9711b68cd",
   "metadata": {},
   "outputs": [],
   "source": []
  }
 ],
 "metadata": {
  "kernelspec": {
   "display_name": "Python 3 (ipykernel)",
   "language": "python",
   "name": "python3"
  },
  "language_info": {
   "codemirror_mode": {
    "name": "ipython",
    "version": 3
   },
   "file_extension": ".py",
   "mimetype": "text/x-python",
   "name": "python",
   "nbconvert_exporter": "python",
   "pygments_lexer": "ipython3",
   "version": "3.11.2"
  }
 },
 "nbformat": 4,
 "nbformat_minor": 5
}
