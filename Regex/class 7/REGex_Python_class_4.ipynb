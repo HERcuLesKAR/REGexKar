{
 "cells": [
  {
   "cell_type": "code",
   "execution_count": 3,
   "id": "df4654db-c8e8-41f9-ba7e-cc8defa3f6d7",
   "metadata": {},
   "outputs": [
    {
     "name": "stdout",
     "output_type": "stream",
     "text": [
      "10\n",
      "15\n"
     ]
    }
   ],
   "source": [
    "def func(y):\n",
    "    global x\n",
    "    x = x + 5\n",
    "    print (y)\n",
    "x = 10\n",
    "func(x)\n",
    "print(x)"
   ]
  },
  {
   "cell_type": "code",
   "execution_count": 4,
   "id": "de283794-3581-4858-b3cb-ec672f9e08be",
   "metadata": {},
   "outputs": [
    {
     "name": "stdout",
     "output_type": "stream",
     "text": [
      "Good\n"
     ]
    }
   ],
   "source": [
    "def remark(x,y,z):\n",
    "    if x>y :\n",
    "        if x>z:\n",
    "            return \"Excellent\"\n",
    "        else :\n",
    "            return \"Average\"\n",
    "    else :\n",
    "        if y>z:\n",
    "            return \"Good\"\n",
    "        else :\n",
    "            return \"Average\"\n",
    "remarks = remark(10,50,30)\n",
    "print (remarks)"
   ]
  },
  {
   "cell_type": "code",
   "execution_count": 12,
   "id": "3321f2b8-7838-4a0f-8de9-987ecf7f4558",
   "metadata": {},
   "outputs": [
    {
     "name": "stdout",
     "output_type": "stream",
     "text": [
      "LCM is  18\n"
     ]
    }
   ],
   "source": [
    "def lcm(x,y):\n",
    "    if x>y :\n",
    "        greatest = x\n",
    "        smallest = y\n",
    "    else :\n",
    "        greatest = y\n",
    "        smallest = x\n",
    "    while (True):\n",
    "        if greatest % x == 0 and greatest % y == 0 :\n",
    "            print (\"LCM is \", greatest)\n",
    "            return\n",
    "        else :\n",
    "            greatest += 1\n",
    "    # for i in range (greatest , x*y+1 , greatest):\n",
    "    #     if i % smallest == 0 :\n",
    "    #         return i\n",
    "lcm (2,9)"
   ]
  },
  {
   "cell_type": "code",
   "execution_count": 17,
   "id": "c996d5ea-796b-46ef-bdd5-153ab6c1f267",
   "metadata": {},
   "outputs": [
    {
     "name": "stdout",
     "output_type": "stream",
     "text": [
      "25\n",
      "10 None\n"
     ]
    }
   ],
   "source": [
    "def square(x):\n",
    "    print (x**2)\n",
    "    \n",
    "def addNO(x , func):\n",
    "    print (x , func )\n",
    "addNO(10 , square(5))"
   ]
  },
  {
   "cell_type": "code",
   "execution_count": 20,
   "id": "2817c0ae-1fe5-40b0-ae72-a2c35e654d79",
   "metadata": {},
   "outputs": [
    {
     "name": "stdout",
     "output_type": "stream",
     "text": [
      "10 9\n"
     ]
    }
   ],
   "source": [
    "def square(x):\n",
    "    return (x**2)\n",
    "    \n",
    "def addNO(x , func):\n",
    "    print (x , func(3) )\n",
    "addNO(10 , square)"
   ]
  },
  {
   "cell_type": "code",
   "execution_count": null,
   "id": "d7763a6d-f818-44df-8e72-3478ac3ad8d5",
   "metadata": {},
   "outputs": [],
   "source": []
  }
 ],
 "metadata": {
  "kernelspec": {
   "display_name": "Python 3 (ipykernel)",
   "language": "python",
   "name": "python3"
  },
  "language_info": {
   "codemirror_mode": {
    "name": "ipython",
    "version": 3
   },
   "file_extension": ".py",
   "mimetype": "text/x-python",
   "name": "python",
   "nbconvert_exporter": "python",
   "pygments_lexer": "ipython3",
   "version": "3.11.2"
  }
 },
 "nbformat": 4,
 "nbformat_minor": 5
}
