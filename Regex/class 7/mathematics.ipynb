{
 "cells": [
  {
   "cell_type": "code",
   "execution_count": 2,
   "id": "88d62040-5224-4e84-bbb8-d2cbcbe4665d",
   "metadata": {},
   "outputs": [
    {
     "ename": "SyntaxError",
     "evalue": "incomplete input (2120434119.py, line 27)",
     "output_type": "error",
     "traceback": [
      "\u001b[1;36m  Cell \u001b[1;32mIn[2], line 27\u001b[1;36m\u001b[0m\n\u001b[1;33m    \u001b[0m\n\u001b[1;37m    ^\u001b[0m\n\u001b[1;31mSyntaxError\u001b[0m\u001b[1;31m:\u001b[0m incomplete input\n"
     ]
    }
   ],
   "source": [
    "def add(*args):\n",
    "    total = 0\n",
    "    for i in args:\n",
    "        total += i\n",
    "    return total\n",
    "\n",
    "def subtract(*args):\n",
    "    result = args[0]\n",
    "    for num in args[1:]:\n",
    "        result -= num\n",
    "    return result\n",
    "\n",
    "def maximum(*args):\n",
    "    max_val = args[0]\n",
    "    for i in args:\n",
    "        if i > max_val:\n",
    "            max_val = i\n",
    "    return max_val\n",
    "\n",
    "def minimum(*args):\n",
    "    min_val = args[0]\n",
    "    for i in args:\n",
    "        if i < min_val:\n",
    "            min_val = i\n",
    "    return min_val\n",
    "\n",
    "def bubble_sort(*args):\n",
    "    arr = list(args)\n",
    "    n = len(arr)\n",
    "    for i in range(n):\n",
    "        for j in range(0, n-i-1):\n",
    "            if arr[j] > arr[j+1]:\n",
    "                arr[j], arr[j+1] = arr[j+1], arr[j]\n",
    "    return arr\n",
    "\n"
   ]
  },
  {
   "cell_type": "code",
   "execution_count": null,
   "id": "2c87d4ce-16e3-489d-b87f-758a7a567ad7",
   "metadata": {},
   "outputs": [],
   "source": []
  }
 ],
 "metadata": {
  "kernelspec": {
   "display_name": "Python 3 (ipykernel)",
   "language": "python",
   "name": "python3"
  },
  "language_info": {
   "codemirror_mode": {
    "name": "ipython",
    "version": 3
   },
   "file_extension": ".py",
   "mimetype": "text/x-python",
   "name": "python",
   "nbconvert_exporter": "python",
   "pygments_lexer": "ipython3",
   "version": "3.11.2"
  }
 },
 "nbformat": 4,
 "nbformat_minor": 5
}
