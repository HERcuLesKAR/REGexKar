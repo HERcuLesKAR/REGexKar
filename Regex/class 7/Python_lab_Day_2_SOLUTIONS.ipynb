{
 "cells": [
  {
   "cell_type": "code",
   "execution_count": 3,
   "id": "649f8308-9d38-45e3-8446-34dd6caf6602",
   "metadata": {},
   "outputs": [
    {
     "data": {
      "text/plain": [
       "'xxxxx'"
      ]
     },
     "execution_count": 3,
     "metadata": {},
     "output_type": "execute_result"
    }
   ],
   "source": [
    "def n_chars(n , c):\n",
    "    pattern = \"\"\n",
    "    for i in range (0,n):\n",
    "        pattern = pattern + c\n",
    "    return pattern\n",
    "n_chars(5,\"x\")"
   ]
  },
  {
   "cell_type": "code",
   "execution_count": 5,
   "id": "24f10ca6-2b1f-471c-a492-bbd1d760e2ff",
   "metadata": {},
   "outputs": [
    {
     "data": {
      "text/plain": [
       "60"
      ]
     },
     "execution_count": 5,
     "metadata": {},
     "output_type": "execute_result"
    }
   ],
   "source": [
    "def max_in_list(x):\n",
    "    greatest = x[0]\n",
    "    for i in x :\n",
    "        if greatest < i :\n",
    "            greatest = i \n",
    "        else :\n",
    "            pass\n",
    "    return greatest \n",
    "max_in_list([10,20,60,40,50])"
   ]
  },
  {
   "cell_type": "code",
   "execution_count": 10,
   "id": "52801249-4a71-49af-bb84-050213111e8f",
   "metadata": {},
   "outputs": [
    {
     "name": "stdout",
     "output_type": "stream",
     "text": [
      "[5, 6, 5]\n"
     ]
    }
   ],
   "source": [
    "list_of_words = [\"apple\",\"banana\",\"mango\"]\n",
    "list_of_length = []\n",
    "for i in list_of_words :\n",
    "    count = 0\n",
    "    for j in i :\n",
    "        count = count + 1\n",
    "    list_of_length.append(count)\n",
    "print (list_of_length)"
   ]
  },
  {
   "cell_type": "code",
   "execution_count": 18,
   "id": "e60972af-2577-4fdf-bf47-10889b0538a7",
   "metadata": {},
   "outputs": [
    {
     "data": {
      "text/plain": [
       "('banana', 6)"
      ]
     },
     "execution_count": 18,
     "metadata": {},
     "output_type": "execute_result"
    }
   ],
   "source": [
    "def find_longest_word(list_of_words):\n",
    "    longest_word = \"\"\n",
    "    count_n = 0\n",
    "    for i in list_of_words :\n",
    "        count = 0\n",
    "        for j in i :\n",
    "            count = count + 1\n",
    "        if count_n < count :\n",
    "            count_n = count \n",
    "            longest_word = i\n",
    "        else :\n",
    "            pass \n",
    "    return longest_word , count_n\n",
    "find_longest_word([\"apple\",\"banana\",\"mango\"])"
   ]
  },
  {
   "cell_type": "code",
   "execution_count": 26,
   "id": "86e3d157-90da-4e21-8429-5cbdebac6020",
   "metadata": {},
   "outputs": [
    {
     "data": {
      "text/plain": [
       "10"
      ]
     },
     "execution_count": 26,
     "metadata": {},
     "output_type": "execute_result"
    }
   ],
   "source": [
    "longest_word = lambda list_of_words , count = 0 : max( len(word) for word in list_of_words if len(word) > count )\n",
    "longest_word([\"apple\", \"banana\", \"watermelon\"])"
   ]
  },
  {
   "cell_type": "code",
   "execution_count": 27,
   "id": "e5255227-a966-49e4-b2dd-9db8d1f7b2e8",
   "metadata": {},
   "outputs": [
    {
     "data": {
      "text/plain": [
       "['banana', 'watermelon']"
      ]
     },
     "execution_count": 27,
     "metadata": {},
     "output_type": "execute_result"
    }
   ],
   "source": [
    "def filter_long_words(list_of_words , n):\n",
    "    nl = []\n",
    "    for i in list_of_words:\n",
    "        if len(i) > n :\n",
    "            nl.append(i)\n",
    "        else :\n",
    "            pass \n",
    "    return nl \n",
    "filter_long_words([\"apple\", \"banana\", \"mango\", \"watermelon\"],5)"
   ]
  },
  {
   "cell_type": "code",
   "execution_count": 28,
   "id": "805ca26b-c964-46e4-9059-828e2aff1d17",
   "metadata": {},
   "outputs": [
    {
     "data": {
      "text/plain": [
       "['banana', 'watermelon']"
      ]
     },
     "execution_count": 28,
     "metadata": {},
     "output_type": "execute_result"
    }
   ],
   "source": [
    "filter_long_words = lambda list_of_words , n : [ words for words in list_of_words if len(words) > n ]\n",
    "filter_long_words([\"apple\", \"banana\", \"mango\", \"watermelon\"],5)"
   ]
  },
  {
   "cell_type": "code",
   "execution_count": 44,
   "id": "1398cc54-124f-455a-b31c-3613be1eb39a",
   "metadata": {},
   "outputs": [
    {
     "name": "stdin",
     "output_type": "stream",
     "text": [
      "Enter a String :  \"Was it a rat I saw\"\n"
     ]
    },
    {
     "name": "stdout",
     "output_type": "stream",
     "text": [
      "String Entered  \"Was it a rat I saw\"\n",
      "String in all Lower Letters :  \"was it a rat i saw\"\n",
      "String without Spaces :  \"wasitaratisaw\"\n",
      "Reversed String :  \"wasitaratisaw\"\n",
      "the word is a palindrome\n"
     ]
    }
   ],
   "source": [
    "word = input(\"Enter a String : \")\n",
    "words = word.lower()\n",
    "string = words.replace(\" \", \"\")\n",
    "reverse = string[-1::-1]\n",
    "print (\"String Entered \", word)\n",
    "print (\"String in all Lower Letters : \" ,words)\n",
    "print (\"String without Spaces : \" ,string)\n",
    "print (\"Reversed String : \" , reverse)\n",
    "if reverse == string  :\n",
    "    print (\"the word is a palindrome\")\n",
    "else :\n",
    "    print (\"the word is not a palindrome\")"
   ]
  },
  {
   "cell_type": "code",
   "execution_count": 54,
   "id": "3cf8f0f7-abbf-466b-93d9-02b379ba6aa2",
   "metadata": {},
   "outputs": [
    {
     "name": "stdin",
     "output_type": "stream",
     "text": [
      "Enter a string :  The quick brown fox jumps over the lazy dog.\n"
     ]
    },
    {
     "name": "stdout",
     "output_type": "stream",
     "text": [
      "The entered String is a Panagram\n"
     ]
    }
   ],
   "source": [
    "word = input(\"Enter a string : \")\n",
    "words = word.upper()\n",
    "count = 0 \n",
    "for i in range (65, 91) :\n",
    "    if chr(i) in words :\n",
    "        count += 1\n",
    "    else :\n",
    "        count = 0\n",
    "        break \n",
    "if count > 0 :\n",
    "    print (\"The entered String is a Panagram\")\n",
    "else :\n",
    "    print (\"The entered String is not a Panagram\")"
   ]
  },
  {
   "cell_type": "code",
   "execution_count": 62,
   "id": "c1959c9e-129a-400a-99f2-4757e380283e",
   "metadata": {},
   "outputs": [
    {
     "name": "stdin",
     "output_type": "stream",
     "text": [
      "Enter your english word separed by space :  happy new year \n"
     ]
    },
    {
     "name": "stdout",
     "output_type": "stream",
     "text": [
      "gott nytt år **** \n"
     ]
    }
   ],
   "source": [
    "bilingual = {\"merry\":\"god\",\"christmas\":\"jul\", \"and\":\"och\", \"happy\":\"gott\", \"new\":\"nytt\", \"year\":\"år\"}\n",
    "def translate (input_string):\n",
    "    spanish = \"\"\n",
    "    for i in input_string :\n",
    "        if i in bilingual :\n",
    "            spanish = spanish + bilingual[i] + \" \"\n",
    "        else :\n",
    "            spanish = spanish + \"**\"+ i + \"**\" + \" \"\n",
    "    print (spanish)\n",
    "input_string = input(\"Enter your english word separed by space : \")\n",
    "input_s = input_string.split(\" \")\n",
    "translate (input_s)     "
   ]
  },
  {
   "cell_type": "code",
   "execution_count": 63,
   "id": "3563302e-70d3-4760-8433-f59037ebd83a",
   "metadata": {},
   "outputs": [
    {
     "name": "stdin",
     "output_type": "stream",
     "text": [
      "Enter a String :-  abbabcbdbabdbdbabababcbcbab\n"
     ]
    },
    {
     "name": "stdout",
     "output_type": "stream",
     "text": [
      "Frequncy of charcters are :  {'a': 7, 'b': 14, 'c': 3, 'd': 3}\n"
     ]
    }
   ],
   "source": [
    "def char_feq(input_string):\n",
    "    nd = {}\n",
    "    for i in input_string :\n",
    "        if i in nd :\n",
    "            nd[i] = nd[i] + 1\n",
    "        else :\n",
    "            nd [i] = 1\n",
    "    print (\"Frequncy of charcters are : \", nd)\n",
    "string = input(\"Enter a String :- \")\n",
    "char_feq(string)"
   ]
  },
  {
   "cell_type": "code",
   "execution_count": 68,
   "id": "10ca4263-3a36-4c77-8df3-e64c121f805f",
   "metadata": {},
   "outputs": [
    {
     "ename": "ModuleNotFoundError",
     "evalue": "No module named 'mathematics'",
     "output_type": "error",
     "traceback": [
      "\u001b[1;31m---------------------------------------------------------------------------\u001b[0m",
      "\u001b[1;31mModuleNotFoundError\u001b[0m                       Traceback (most recent call last)",
      "Cell \u001b[1;32mIn[68], line 1\u001b[0m\n\u001b[1;32m----> 1\u001b[0m \u001b[38;5;28;01mimport\u001b[39;00m \u001b[38;5;21;01mmathematics\u001b[39;00m\u001b[38;5;21;01m.\u001b[39;00m\u001b[38;5;21;01mipynb\u001b[39;00m\n\u001b[0;32m      3\u001b[0m a \u001b[38;5;241m=\u001b[39m [\u001b[38;5;241m1\u001b[39m, \u001b[38;5;241m2\u001b[39m, \u001b[38;5;241m3\u001b[39m, \u001b[38;5;241m4\u001b[39m]\n\u001b[0;32m      4\u001b[0m b \u001b[38;5;241m=\u001b[39m [\u001b[38;5;241m5\u001b[39m, \u001b[38;5;241m6\u001b[39m, \u001b[38;5;241m7\u001b[39m, \u001b[38;5;241m8\u001b[39m]\n",
      "\u001b[1;31mModuleNotFoundError\u001b[0m: No module named 'mathematics'"
     ]
    }
   ],
   "source": [
    "import mathematics.ipynb\n",
    "\n",
    "a = [1, 2, 3, 4]\n",
    "b = [5, 6, 7, 8]\n",
    "c = []\n",
    "d = []\n",
    "\n",
    "for x, y in zip(a, b):\n",
    "    c.append(mathematics.add(x, y))\n",
    "\n",
    "print(\"Sum of Array a and b =\", c)\n",
    "\n",
    "for x, y in zip(a, b):\n",
    "    d.append(mathematics.subtract(x, y))\n",
    "\n",
    "print(\"Subtract of a and b =\", d)\n",
    "\n",
    "e = mathematics.maximum(*c)\n",
    "print(\"Max of Sum of Array a and b that is c =\", e)\n",
    "\n",
    "f = mathematics.minimum(*c)\n",
    "print(\"Min of Sum of Array a and b that is c =\", f)\n",
    "\n",
    "g = mathematics.bubble_sort(*c)\n",
    "print(\"Sorted array c:\", g)"
   ]
  },
  {
   "cell_type": "code",
   "execution_count": null,
   "id": "baf01a75-9a97-4a14-92a4-b2f4644b27b8",
   "metadata": {},
   "outputs": [],
   "source": []
  }
 ],
 "metadata": {
  "kernelspec": {
   "display_name": "Python 3 (ipykernel)",
   "language": "python",
   "name": "python3"
  },
  "language_info": {
   "codemirror_mode": {
    "name": "ipython",
    "version": 3
   },
   "file_extension": ".py",
   "mimetype": "text/x-python",
   "name": "python",
   "nbconvert_exporter": "python",
   "pygments_lexer": "ipython3",
   "version": "3.11.2"
  }
 },
 "nbformat": 4,
 "nbformat_minor": 5
}
